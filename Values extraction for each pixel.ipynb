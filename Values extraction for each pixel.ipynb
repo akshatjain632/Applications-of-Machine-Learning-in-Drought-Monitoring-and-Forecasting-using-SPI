{
 "cells": [
  {
   "cell_type": "code",
   "execution_count": null,
   "id": "f21f2685",
   "metadata": {},
   "outputs": [],
   "source": [
    "import rasterio\n",
    "import rasterio.plot\n",
    "import pyproj\n",
    "from osgeo import gdal\n",
    "from osgeo import osr\n",
    "from rasterio.plot import show\n",
    "import fiona\n",
    "import rasterio.mask\n",
    "import sys\n",
    "import numpy\n",
    "numpy.set_printoptions(threshold=sys.maxsize)\n",
    "import os\n",
    "import pandas as pd"
   ]
  },
  {
   "cell_type": "code",
   "execution_count": null,
   "id": "0c410cf1",
   "metadata": {},
   "outputs": [],
   "source": [
    "folder=r'System Location of SPI'\n",
    "print(os.listdir(folder))"
   ]
  },
  {
   "cell_type": "code",
   "execution_count": null,
   "id": "13665d53",
   "metadata": {
    "scrolled": true
   },
   "outputs": [],
   "source": [
    "os.chdir(r'System Location for Pixel')\n",
    "!gdalinfo -nomd spi_03_Gamma_X1981_01_water_masked.tif"
   ]
  },
  {
   "cell_type": "code",
   "execution_count": null,
   "id": "5a0372b4",
   "metadata": {},
   "outputs": [],
   "source": [
    "rasternames=[]\n",
    "for i in os.listdir(folder):\n",
    "    rasternames.append(i)"
   ]
  },
  {
   "cell_type": "code",
   "execution_count": null,
   "id": "4d18884c",
   "metadata": {},
   "outputs": [],
   "source": [
    "img1=gdal.Open(r'Location of base raster for feature extraction')\n",
    "col=img1.RasterXSize\n",
    "rows=img1.RasterYSize\n",
    "driver=img1.GetDriver()\n",
    "img1_val=img1.GetRasterBand(1).ReadAsArray().flatten()"
   ]
  },
  {
   "cell_type": "code",
   "execution_count": null,
   "id": "03bcd0bc",
   "metadata": {},
   "outputs": [],
   "source": [
    "mask_in=[]\n",
    "mask_out=[]\n",
    "for i in range(0,len(img1_val)):\n",
    "    if img1_val[i]==0:# Replace with default value outside of boundary\n",
    "        mask_out.append(i)\n",
    "    else:\n",
    "        mask_in.append(i)"
   ]
  },
  {
   "cell_type": "code",
   "execution_count": null,
   "id": "1b04aca5",
   "metadata": {},
   "outputs": [],
   "source": [
    "print(len(mask_in),len(mask_out),len(img1_val))"
   ]
  },
  {
   "cell_type": "code",
   "execution_count": null,
   "id": "576fd4fc",
   "metadata": {},
   "outputs": [],
   "source": [
    "for i in mask_in:\n",
    "    values=[]\n",
    "    for j in rasternames[2:]:#Change the starting index based on timescale- SPI1=0, SPI3=2, SPI6=5, SPI9=8 \n",
    "        img=gdal.Open(j)\n",
    "        val=img.GetRasterBand(1).ReadAsArray().flatten()\n",
    "        values.append(val[i])\n",
    "    df = pd.DataFrame(list(zip(values)))\n",
    "    #Change location in next line\n",
    "    df.to_csv(\"D:\\\\Desktop\\\\akshat\\\\Internship_Stuff\\\\Dataset\\\\SPI\\\\Gamma\\\\spi_3_pixelvalues\\\\pixel_\"+str(i)+\".csv\")"
   ]
  }
 ],
 "metadata": {
  "kernelspec": {
   "display_name": "Python 3 (ipykernel)",
   "language": "python",
   "name": "python3"
  },
  "language_info": {
   "codemirror_mode": {
    "name": "ipython",
    "version": 3
   },
   "file_extension": ".py",
   "mimetype": "text/x-python",
   "name": "python",
   "nbconvert_exporter": "python",
   "pygments_lexer": "ipython3",
   "version": "3.9.12"
  }
 },
 "nbformat": 4,
 "nbformat_minor": 5
}
