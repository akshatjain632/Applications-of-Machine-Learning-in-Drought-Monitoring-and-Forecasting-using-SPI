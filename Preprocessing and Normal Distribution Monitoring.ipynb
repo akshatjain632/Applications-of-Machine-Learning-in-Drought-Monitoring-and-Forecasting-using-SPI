{
 "cells": [
  {
   "cell_type": "code",
   "execution_count": null,
   "id": "2621cf62",
   "metadata": {},
   "outputs": [],
   "source": [
    "import rasterio\n",
    "import rasterio.plot\n",
    "import pyproj\n",
    "import matplotlib\n",
    "import matplotlib.pyplot as plt\n",
    "from osgeo import gdal\n",
    "from osgeo import osr\n",
    "import math\n",
    "from rasterio.plot import show\n",
    "import fiona\n",
    "import rasterio\n",
    "import rasterio.mask\n",
    "import numpy\n",
    "import sys\n",
    "numpy.set_printoptions(threshold=sys.maxsize)\n",
    "import os\n",
    "import re\n",
    "import statistics"
   ]
  },
  {
   "cell_type": "code",
   "execution_count": null,
   "id": "2e9b22e8",
   "metadata": {},
   "outputs": [],
   "source": [
    "folder=r'//'#Location of CHIRPS Dataset Tiff files\n",
    "print(os.listdir(folder))"
   ]
  },
  {
   "cell_type": "code",
   "execution_count": null,
   "id": "5ae27acf",
   "metadata": {},
   "outputs": [],
   "source": [
    "# Renaming Tiff files for convienience\n",
    "count_year=1981\n",
    "count_month=1\n",
    "for file_name in os.listdir(folder):\n",
    "    if count_month==13:\n",
    "        count_month=1\n",
    "        count_year+=1\n",
    "    source=folder+file_name\n",
    "    if count_month<10:\n",
    "        month=\"0\"+str(count_month)\n",
    "    else:\n",
    "        month=str(count_month)\n",
    "    destination=folder+str(count_year)+\"_\"+month+\".tif\"\n",
    "    os.rename(source,destination)\n",
    "    count_month+=1\n",
    "print(os.listdir(folder))"
   ]
  },
  {
   "cell_type": "code",
   "execution_count": null,
   "id": "1a407422",
   "metadata": {},
   "outputs": [],
   "source": [
    "#Changing directory to load files from and save output in\n",
    "os.chdir(r'//')#Location of CHIRPS Dataset Tiff files"
   ]
  },
  {
   "cell_type": "code",
   "execution_count": null,
   "id": "ff4109e3",
   "metadata": {},
   "outputs": [],
   "source": [
    "#Cropping Dataset to ROI using shp file\n",
    "shp_file_path = r'//'#Location of Shapefile\n",
    "with fiona.open(shp_file_path, \"r\") as shapefile:\n",
    "    shapes = [feature[\"geometry\"] for feature in shapefile]\n",
    "src_raster_path = r'//'#Location of Rasters\n",
    "folder=r'//'#Location of Rasters(For saving clipped rasters)\n",
    "for file_name in os.listdir(folder):\n",
    "    src_raster_path_name=src_raster_path+file_name\n",
    "    output_raster_path = src_raster_path_name[:-4] + '_water_masked.tif'\n",
    "    with rasterio.open(src_raster_path_name) as src:\n",
    "        out_image, out_transform = rasterio.mask.mask(src, shapes, crop=True)\n",
    "        out_meta = src.meta\n",
    "        height=out_image.shape[1]\n",
    "        width=out_image.shape[2]\n",
    "    out_meta.update({\"driver\": \"GTiff\",\n",
    "                 \"height\": out_image.shape[1],\n",
    "                 \"width\": out_image.shape[2],\n",
    "                 \"transform\": out_transform})\n",
    "    with rasterio.open(output_raster_path, \"w\", **out_meta) as dest:\n",
    "        dest.write(out_image)"
   ]
  },
  {
   "cell_type": "code",
   "execution_count": null,
   "id": "db38f3c3",
   "metadata": {},
   "outputs": [],
   "source": [
    "#Changing directory to load files from and save output in\n",
    "os.chdir(r'//')#Location of Karnataka Dataset Tiff files\n",
    "#Checking if gdal library is loaded properly- sometimes it doesnt load properly\n",
    "!gdalinfo -nomd 1981_01_water_masked.tif"
   ]
  },
  {
   "cell_type": "code",
   "execution_count": null,
   "id": "96e5281d",
   "metadata": {},
   "outputs": [],
   "source": [
    "folder=r'//'#Location of Karnataka Dataset Tiff files\n",
    "print(os.listdir(folder))"
   ]
  },
  {
   "cell_type": "code",
   "execution_count": null,
   "id": "84cb4931",
   "metadata": {},
   "outputs": [],
   "source": [
    "#making a list of all raster files\n",
    "rasternames=[]\n",
    "for file_name in os.listdir(folder):\n",
    "    rasternames.append(file_name)"
   ]
  },
  {
   "cell_type": "code",
   "execution_count": null,
   "id": "a5daf99c",
   "metadata": {},
   "outputs": [],
   "source": [
    "#load one image to get various values needed later for creating rasters and mask\n",
    "img1=gdal.Open('//')#Location of Raster\n",
    "col=img1.RasterXSize\n",
    "rows=img1.RasterYSize\n",
    "driver=img1.GetDriver()\n",
    "img1_val=img1.GetRasterBand(1).ReadAsArray().flatten()"
   ]
  },
  {
   "cell_type": "code",
   "execution_count": null,
   "id": "5c2dd100",
   "metadata": {},
   "outputs": [],
   "source": [
    "#mask creation to remove values outside of boundary in loaded tiff files values later\n",
    "mask_in=[]\n",
    "for i in range(0,len(img1_val)):\n",
    "    if img1_val[i]!=0:# replace with default value outside of boundary\n",
    "        mask_in.append(i)"
   ]
  },
  {
   "cell_type": "code",
   "execution_count": null,
   "id": "8dd82272",
   "metadata": {},
   "outputs": [],
   "source": [
    "# Making lists to store each months tiff files seperately\n",
    "jan=[]\n",
    "feb=[]\n",
    "mar=[]\n",
    "apr=[]\n",
    "may=[]\n",
    "jun=[]\n",
    "jul=[]\n",
    "aug=[]\n",
    "sep=[]\n",
    "octo=[]\n",
    "nov=[]\n",
    "dec=[]\n",
    "for i in rasternames:\n",
    "    if re.search(\"_01_\",i):\n",
    "        jan.append(i)\n",
    "    if re.search(\"_02_\",i):\n",
    "        feb.append(i)\n",
    "    if re.search(\"_03_\",i):\n",
    "        mar.append(i)\n",
    "    if re.search(\"_04_\",i):\n",
    "        apr.append(i)\n",
    "    if re.search(\"_05_\",i):\n",
    "        may.append(i)\n",
    "    if re.search(\"_06_\",i):\n",
    "        jun.append(i)\n",
    "    if re.search(\"_07_\",i):\n",
    "        jul.append(i)\n",
    "    if re.search(\"_08_\",i):\n",
    "        aug.append(i)\n",
    "    if re.search(\"_09_\",i):\n",
    "        sep.append(i)\n",
    "    if re.search(\"_10_\",i):\n",
    "        octo.append(i)\n",
    "    if re.search(\"_11_\",i):\n",
    "        nov.append(i)\n",
    "    if re.search(\"_12_\",i):\n",
    "        dec.append(i)\n",
    "#Storing all lists in one list to make access easy\n",
    "month=[jan,feb,mar,apr,may,jun,jul,aug,sep,octo,nov,dec]"
   ]
  },
  {
   "cell_type": "code",
   "execution_count": null,
   "id": "44c9570d",
   "metadata": {},
   "outputs": [],
   "source": [
    "#helps create a empty list for result raster creation\n",
    "def zero(list):\n",
    "    for i in range(0,len(list)):\n",
    "        list[i]=0\n",
    "    return list"
   ]
  },
  {
   "cell_type": "code",
   "execution_count": null,
   "id": "f3e62229",
   "metadata": {},
   "outputs": [],
   "source": [
    "# Average of each month\n",
    "i=0\n",
    "for m in month:\n",
    "    avg_val=zero(img1_val)\n",
    "    for y in m:\n",
    "        img=gdal.Open(y)\n",
    "        img_val=img.GetRasterBand(1).ReadAsArray().flatten()\n",
    "        avg_val=avg_val+img_val\n",
    "    avg_val=avg_val/40\n",
    "    avgdataMatrix=avg_val.reshape(rows,col)\n",
    "    if i<9:\n",
    "        raster_avg = driver.Create(\"average_of_0\"+str(i+1)+ \".tif\", col, rows, 1, gdal.GDT_Float32)\n",
    "    else:\n",
    "        raster_avg = driver.Create(\"average_of_\"+str(i+1)+ \".tif\", col, rows, 1, gdal.GDT_Float32)\n",
    "    raster_avg.SetGeoTransform(img1.GetGeoTransform())\n",
    "    raster_avg.SetProjection(img1.GetProjection())\n",
    "    raster_avg.GetRasterBand(1).WriteArray(avgdataMatrix)\n",
    "    i+=1\n",
    "    del raster_avg"
   ]
  },
  {
   "cell_type": "code",
   "execution_count": null,
   "id": "176f72b2",
   "metadata": {},
   "outputs": [],
   "source": [
    "#saving all averages in one list for convenience\n",
    "avg=[]\n",
    "for i in os.listdir(folder):\n",
    "    if re.search(\"average_of\",i):\n",
    "        avg.append(i)"
   ]
  },
  {
   "cell_type": "markdown",
   "id": "8db11930",
   "metadata": {},
   "source": [
    "# Standard Deviation for each month"
   ]
  },
  {
   "cell_type": "code",
   "execution_count": null,
   "id": "c3f6941e",
   "metadata": {},
   "outputs": [],
   "source": [
    "# Standard Deviation for Each month\n",
    "for m in range(0,12):\n",
    "    avg_img=gdal.Open(avg[m])\n",
    "    avg_val=avg_img.GetRasterBand(1).ReadAsArray().flatten()\n",
    "    diff=zero(img1_val)\n",
    "    diff_sum=zero(img1_val)\n",
    "    for y in range(0,len(month[m])):\n",
    "        img=gdal.Open(month[m][y])\n",
    "        img_val=img.GetRasterBand(1).ReadAsArray().flatten()\n",
    "        diff=avg_val-img_val\n",
    "        diff=numpy.square(diff)\n",
    "        diff_sum=diff_sum+diff\n",
    "    diff_sum=diff_sum/40\n",
    "    sd=numpy.sqrt(diff_sum)\n",
    "    sdMatrix=sd.reshape(rows,col)\n",
    "    if m<9:\n",
    "        raster_sd = driver.Create(\"sd_of_0\" + str(m+1) + \".tif\", col, rows, 1, gdal.GDT_Float32)\n",
    "    else:\n",
    "        raster_sd = driver.Create(\"sd_of_\" + str(m+1) + \".tif\", col, rows, 1, gdal.GDT_Float32)\n",
    "    raster_sd.SetGeoTransform(img1.GetGeoTransform())\n",
    "    raster_sd.SetProjection(img1.GetProjection())\n",
    "    raster_sd.GetRasterBand(1).WriteArray(sdMatrix)\n",
    "    del raster_sd"
   ]
  },
  {
   "cell_type": "code",
   "execution_count": null,
   "id": "6c26f3a6",
   "metadata": {},
   "outputs": [],
   "source": [
    "#saving all standard deviations in one list for convenience\n",
    "sd=[]\n",
    "for i in os.listdir(folder):\n",
    "    if re.search(\"sd_of\",i):\n",
    "        sd.append(i)"
   ]
  },
  {
   "cell_type": "markdown",
   "id": "f27baa47",
   "metadata": {},
   "source": [
    "# Anomaly and Standardized Anomaly"
   ]
  },
  {
   "cell_type": "code",
   "execution_count": null,
   "id": "2a581a4a",
   "metadata": {},
   "outputs": [],
   "source": [
    "# Anomaly and Standardized Anomaly for all\n",
    "i=0\n",
    "for m in month:\n",
    "    avg_img=gdal.Open(avg[i])\n",
    "    avg_val=avg_img.GetRasterBand(1).ReadAsArray().flatten()\n",
    "    sd_img=gdal.Open(sd[i])\n",
    "    sd_val=sd_img.GetRasterBand(1).ReadAsArray().flatten()\n",
    "    i+=1\n",
    "    for y in m:\n",
    "        img=gdal.Open(y)\n",
    "        img_val=img.GetRasterBand(1).ReadAsArray().flatten()\n",
    "        anomaly=img_val-avg_val\n",
    "        sdt_anomaly=numpy.divide(anomaly,sd_val,out=numpy.zeros_like(anomaly), where=sd_val!=0)\n",
    "        anomalyMatrix=anomaly.reshape(rows,col)\n",
    "        sdt_anomalyMatrix=sdt_anomaly.reshape(rows,col)\n",
    "        raster_anomaly=driver.Create(\"anomaly_\" + y[0:7] + \".tif\",col,rows,1,gdal.GDT_Float32)\n",
    "        raster_anomaly.SetGeoTransform(img1.GetGeoTransform())\n",
    "        raster_anomaly.SetProjection(img1.GetProjection())\n",
    "        raster_anomaly.GetRasterBand(1).WriteArray(anomalyMatrix)\n",
    "        raster_sdt_anomaly=driver.Create(\"sdt_anomaly_\" + y[0:7] + \".tif\",col,rows,1,gdal.GDT_Float32)\n",
    "        raster_sdt_anomaly.SetGeoTransform(img1.GetGeoTransform())\n",
    "        raster_sdt_anomaly.SetProjection(img1.GetProjection())\n",
    "        raster_sdt_anomaly.GetRasterBand(1).WriteArray(sdt_anomalyMatrix)\n",
    "        del raster_anomaly\n",
    "        del raster_sdt_anomaly"
   ]
  },
  {
   "cell_type": "code",
   "execution_count": null,
   "id": "05cbf63a",
   "metadata": {},
   "outputs": [],
   "source": [
    "#saving all standardized anomaly in one list for convenience\n",
    "sdt_anml=[]\n",
    "for i in rasternames:\n",
    "    if re.search(\"sdt_anomaly\",i):\n",
    "        sdt_anml.append(i)"
   ]
  },
  {
   "cell_type": "markdown",
   "id": "37cdf061",
   "metadata": {},
   "source": [
    "# Percentage Deviation From Mean"
   ]
  },
  {
   "cell_type": "code",
   "execution_count": null,
   "id": "f1fff8af",
   "metadata": {},
   "outputs": [],
   "source": [
    "i=0\n",
    "for m in month:\n",
    "    avg_img=gdal.Open(avg[i])\n",
    "    avg_val=avg_img.GetRasterBand(1).ReadAsArray().flatten()\n",
    "    i+=1\n",
    "    for y in m:\n",
    "        img=gdal.Open(y)\n",
    "        img_val=img.GetRasterBand(1).ReadAsArray().flatten()\n",
    "        anomaly=img_val-avg_val\n",
    "        perc_anomaly=numpy.divide(anomaly,avg_val,out=numpy.zeros_like(anomaly), where=avg_val!=0)\n",
    "        perc_anomaly=perc_anomaly*100\n",
    "        perc_anomalyMatrix=perc_anomaly.reshape(rows,col)\n",
    "        raster_perc_anomaly=driver.Create(\"percentage_anomaly_\" + y[0:7] + \".tif\",col,rows,1,gdal.GDT_Float32)\n",
    "        raster_perc_anomaly.SetGeoTransform(img1.GetGeoTransform())\n",
    "        raster_perc_anomaly.SetProjection(img1.GetProjection())\n",
    "        raster_perc_anomaly.GetRasterBand(1).WriteArray(perc_anomalyMatrix)\n",
    "        del raster_perc_anomaly"
   ]
  },
  {
   "cell_type": "code",
   "execution_count": null,
   "id": "ca8866d1",
   "metadata": {},
   "outputs": [],
   "source": [
    "#saving all percentage deviation in one list for convenience\n",
    "perc_anml=[]\n",
    "for i in rasternames:\n",
    "    if re.search(\"percentage_anomaly\",i):\n",
    "        perc_anml.append(i)"
   ]
  },
  {
   "cell_type": "markdown",
   "id": "3192973c",
   "metadata": {},
   "source": [
    "# Monitoring"
   ]
  },
  {
   "cell_type": "markdown",
   "id": "7b4b553f",
   "metadata": {},
   "source": [
    "# Functions needed in monitoring"
   ]
  },
  {
   "cell_type": "code",
   "execution_count": null,
   "id": "940bc1d4",
   "metadata": {},
   "outputs": [],
   "source": [
    "def masking_3(arr):\n",
    "    return [value for value in arr if value != 0]"
   ]
  },
  {
   "cell_type": "code",
   "execution_count": null,
   "id": "6f590932",
   "metadata": {},
   "outputs": [],
   "source": [
    "def classification_1(abc):\n",
    "    reslt=[]\n",
    "    for i in range(0,len(abc)):\n",
    "        if abc[i]<0:#change value based on drought severity\n",
    "            reslt.append(0)\n",
    "        else:\n",
    "            reslt.append(1)\n",
    "    return reslt"
   ]
  },
  {
   "cell_type": "code",
   "execution_count": null,
   "id": "54833f76",
   "metadata": {},
   "outputs": [],
   "source": [
    "def rle_2(val_list):\n",
    "    rle_output=[]\n",
    "    i=0\n",
    "    while (i <= len(val_list)-1):\n",
    "        count=1\n",
    "        ch=val_list[i]\n",
    "        j=i\n",
    "        while (j < len(val_list)-1):\n",
    "            if (val_list[j] == val_list[j+1]):\n",
    "                count=count+1\n",
    "                j=j+1\n",
    "            else:\n",
    "                break\n",
    "        rle_output.append(ch)\n",
    "        rle_output.append(count)\n",
    "        i=j+1\n",
    "    return rle_output"
   ]
  },
  {
   "cell_type": "markdown",
   "id": "ffc2de25",
   "metadata": {},
   "source": [
    "# Actual Monitoring start "
   ]
  },
  {
   "cell_type": "code",
   "execution_count": null,
   "id": "d30fa9a5",
   "metadata": {},
   "outputs": [],
   "source": [
    "#Open and load rasters for distribution that needs to be monitored that need to be \n",
    "sdt_anml_val_3=[]\n",
    "for i in range (0,len(sdt_anml)):\n",
    "    img=gdal.Open(sdt_anml[i])\n",
    "    val=img.GetRasterBand(1).ReadAsArray().flatten()\n",
    "    val=masking_3(val)\n",
    "    val=classification_1(val)\n",
    "    sdt_anml_val_3.append(val)\n",
    "print(len(sdt_anml_val_3))"
   ]
  },
  {
   "cell_type": "markdown",
   "id": "1263f1e0",
   "metadata": {},
   "source": [
    "# Monitoring phase 1- Frequency, Mode Onset/Cessation, Duration(Mean,Min,Max)"
   ]
  },
  {
   "cell_type": "code",
   "execution_count": null,
   "id": "9a8818d1",
   "metadata": {},
   "outputs": [],
   "source": [
    "#function for frequency, duration onset and cessation\n",
    "def monitoring(abc):\n",
    "    result=[]\n",
    "    freq=0\n",
    "    month_count=0\n",
    "    start_year=[]\n",
    "    start_month=[]\n",
    "    end_year=[]\n",
    "    end_month=[]\n",
    "    duration=[]\n",
    "    for k in range(0,len(abc),2):\n",
    "        if abc[k]==0 and abc[k+1]>=3:\n",
    "            duration.append(abc[k+1])\n",
    "            freq+=1\n",
    "            sy=month_count//12\n",
    "            sm=month_count%12\n",
    "            sm=sm+1\n",
    "            start_year.append(sy)\n",
    "            start_month.append(sm)\n",
    "            month_count=month_count+abc[k+1]\n",
    "            em=sm+abc[k+1]-2\n",
    "            em=em%12\n",
    "            em=em+1\n",
    "            end_month.append(em)\n",
    "            ey=month_count//12\n",
    "            end_year.append(ey)\n",
    "        else:\n",
    "            month_count=month_count+abc[k+1]\n",
    "    result.append(freq)\n",
    "    result.append(statistics.mode(start_month))\n",
    "    result.append(statistics.mode(end_month))\n",
    "    result.append(statistics.mean(duration))\n",
    "    result.append(numpy.min(duration))\n",
    "    result.append(numpy.max(duration))\n",
    "    return result"
   ]
  },
  {
   "cell_type": "code",
   "execution_count": null,
   "id": "f84b20d5",
   "metadata": {},
   "outputs": [],
   "source": [
    "#reshaping  loaded rasters to help pixel wise monitoring\n",
    "pixel_val_i=[]\n",
    "for i in perc_anml_val_3:\n",
    "    pixel_val_i_10=[]\n",
    "    for j in range(0,6446):\n",
    "        pixel_val_i_10.append(i[j])\n",
    "    pixel_val_i.append(pixel_val_i_10)"
   ]
  },
  {
   "cell_type": "code",
   "execution_count": null,
   "id": "0ae4cf4d",
   "metadata": {},
   "outputs": [],
   "source": [
    "#pixel wise monitoring\n",
    "valid_frequency_count=[]\n",
    "valid_mode_onset_month=[]\n",
    "valid_mode_cessation_month=[]\n",
    "valid_mean_duration=[]\n",
    "valid_min_duration=[]\n",
    "valid_max_duration=[]\n",
    "for i in range(0,6446):\n",
    "    pixel_val_i_calc=[]\n",
    "    for j in pixel_val_i:\n",
    "        pixel_val_i_calc.append(j[i])\n",
    "    pixel_val_i_calc_rle=rle_2(pixel_val_i_calc)\n",
    "    print(\"Results for pixel \"+ str(i+1))\n",
    "    result=monitoring(pixel_val_i_calc_rle)\n",
    "    valid_frequency_count.append(result[0])\n",
    "    valid_mode_onset_month.append(result[1])\n",
    "    valid_mode_cessation_month.append(result[2])\n",
    "    valid_mean_duration.append(result[3])\n",
    "    valid_min_duration.append(result[4])\n",
    "    valid_max_duration.append(result[5])"
   ]
  },
  {
   "cell_type": "code",
   "execution_count": null,
   "id": "ba5459dc",
   "metadata": {},
   "outputs": [],
   "source": [
    "#ceating lists to help in final results raster creation\n",
    "frequency_values=[-9999]*12649\n",
    "mode_onset_month_values=[-9999]*12649\n",
    "mode_cessation_month_values=[-9999]*12649\n",
    "mean_duration_values=[-9999]*12649\n",
    "min_duration_values=[-9999]*12649\n",
    "max_duration_values=[-9999]*12649\n",
    "j=0\n",
    "for i in mask_in:\n",
    "    frequency_values[i]=valid_frequency_count[j]\n",
    "    mode_onset_month_values[i]=valid_mode_onset_month[j]\n",
    "    mode_cessation_month_values[i]=valid_mode_cessation_month[j]\n",
    "    mean_duration_values[i]=valid_mean_duration[j]\n",
    "    min_duration_values[i]=valid_min_duration[j]\n",
    "    max_duration_values[i]=valid_max_duration[j]\n",
    "    j=j+1"
   ]
  },
  {
   "cell_type": "code",
   "execution_count": null,
   "id": "396ebe49",
   "metadata": {},
   "outputs": [],
   "source": [
    "# Frequncy Image\n",
    "frequency_values=numpy.array(frequency_values)\n",
    "frequencyMatrix=frequency_values.reshape(rows,col)\n",
    "raster_frequency=driver.Create(\"Frequency_of_Drought.tif\",col,rows,1,gdal.GDT_Float32)\n",
    "raster_frequency.SetGeoTransform(img1.GetGeoTransform())\n",
    "raster_frequency.SetProjection(img1.GetProjection())\n",
    "raster_frequency.GetRasterBand(1).WriteArray(frequencyMatrix)\n",
    "del raster_frequency"
   ]
  },
  {
   "cell_type": "code",
   "execution_count": null,
   "id": "632b9ae1",
   "metadata": {},
   "outputs": [],
   "source": [
    "# Mode Onset Month Image\n",
    "mode_onset_month_values=numpy.array(mode_onset_month_values)\n",
    "mode_monthMatrix=mode_onset_month_values.reshape(rows,col)\n",
    "raster_mode_month=driver.Create(\"Mode_of_Onset_Month_of_Drought.tif\",col,rows,1,gdal.GDT_Float32)\n",
    "raster_mode_month.SetGeoTransform(img1.GetGeoTransform())\n",
    "raster_mode_month.SetProjection(img1.GetProjection())\n",
    "raster_mode_month.GetRasterBand(1).WriteArray(mode_monthMatrix)\n",
    "del raster_mode_month"
   ]
  },
  {
   "cell_type": "code",
   "execution_count": null,
   "id": "83caa589",
   "metadata": {},
   "outputs": [],
   "source": [
    "# Mode Cessation Month Image\n",
    "mode_cessation_month_values=numpy.array(mode_cessation_month_values)\n",
    "mode_month_endMatrix=mode_cessation_month_values.reshape(rows,col)\n",
    "raster_mode_month_end=driver.Create(\"Mode_of_Cessation_Month_of_Drought_End.tif\",col,rows,1,gdal.GDT_Float32)\n",
    "raster_mode_month_end.SetGeoTransform(img1.GetGeoTransform())\n",
    "raster_mode_month_end.SetProjection(img1.GetProjection())\n",
    "raster_mode_month_end.GetRasterBand(1).WriteArray(mode_month_endMatrix)\n",
    "del raster_mode_month_end"
   ]
  },
  {
   "cell_type": "code",
   "execution_count": null,
   "id": "dbf33bbb",
   "metadata": {},
   "outputs": [],
   "source": [
    "# Mean Duration Image\n",
    "mean_duration_values=numpy.array(mean_duration_values)\n",
    "mean_durationMatrix=mean_duration_values.reshape(rows,col)\n",
    "raster_mean_duration=driver.Create(\"Mean_Duration.tif\",col,rows,1,gdal.GDT_Float32)\n",
    "raster_mean_duration.SetGeoTransform(img1.GetGeoTransform())\n",
    "raster_mean_duration.SetProjection(img1.GetProjection())\n",
    "raster_mean_duration.GetRasterBand(1).WriteArray(mean_durationMatrix)\n",
    "del raster_mean_duration"
   ]
  },
  {
   "cell_type": "code",
   "execution_count": null,
   "id": "7dbea234",
   "metadata": {},
   "outputs": [],
   "source": [
    "# Minimum Duration Image\n",
    "min_duration_values=numpy.array(min_duration_values)\n",
    "min_durationMatrix=min_duration_values.reshape(rows,col)\n",
    "raster_min_duration=driver.Create(\"Minimum_Duration.tif\",col,rows,1,gdal.GDT_Float32)\n",
    "raster_min_duration.SetGeoTransform(img1.GetGeoTransform())\n",
    "raster_min_duration.SetProjection(img1.GetProjection())\n",
    "raster_min_duration.GetRasterBand(1).WriteArray(min_durationMatrix)\n",
    "del raster_min_duration"
   ]
  },
  {
   "cell_type": "code",
   "execution_count": null,
   "id": "310d7b19",
   "metadata": {},
   "outputs": [],
   "source": [
    "# Max Duration Image\n",
    "max_duration_values=numpy.array(max_duration_values)\n",
    "max_durationMatrix=max_duration_values.reshape(rows,col)\n",
    "raster_max_duration=driver.Create(\"Maximum_Duration.tif\",col,rows,1,gdal.GDT_Float32)\n",
    "raster_max_duration.SetGeoTransform(img1.GetGeoTransform())\n",
    "raster_max_duration.SetProjection(img1.GetProjection())\n",
    "raster_max_duration.GetRasterBand(1).WriteArray(max_durationMatrix)\n",
    "del raster_max_duration"
   ]
  },
  {
   "cell_type": "markdown",
   "id": "b63ebe67",
   "metadata": {},
   "source": [
    "# Monitoring Phase 2- Intensity(Average and Maximum)"
   ]
  },
  {
   "cell_type": "markdown",
   "id": "9c8d02c0",
   "metadata": {},
   "source": [
    "# This process is made more efficient in SPImonitoring.ipynb "
   ]
  },
  {
   "cell_type": "code",
   "execution_count": null,
   "id": "9376fde6",
   "metadata": {},
   "outputs": [],
   "source": [
    "#reload rasters for intensity calculation\n",
    "sdt_anml_val_4=[]\n",
    "for i in range (0,len(sdt_anml)):\n",
    "    img=gdal.Open(sdt_anml[i])\n",
    "    val=img.GetRasterBand(1).ReadAsArray().flatten()\n",
    "    val=masking_3(val)\n",
    "    sdt_anml_val_4.append(val)\n",
    "print(len(sdt_anml_val_4))"
   ]
  },
  {
   "cell_type": "code",
   "execution_count": null,
   "id": "a6f03dc9",
   "metadata": {},
   "outputs": [],
   "source": [
    "sdt_anml_val_5=[]\n",
    "for i in range(0,len(mask_in)):\n",
    "    tempo_val=[]\n",
    "    for j in sdt_anml_val_4:\n",
    "        tempo_val.append(j[i])\n",
    "    tempo_val=classification_1(tempo_val)\n",
    "    sdt_anml_val_5.append(tempo_val)"
   ]
  },
  {
   "cell_type": "code",
   "execution_count": null,
   "id": "4d9d95fa",
   "metadata": {},
   "outputs": [],
   "source": [
    "def monitoring_2(abc):\n",
    "    result=[]\n",
    "    freq=0\n",
    "    month_count=0\n",
    "    start_month=[]\n",
    "    end_month=[]\n",
    "    for k in range(0,len(abc),2):\n",
    "        if abc[k]==0 and abc[k+1]>=3:\n",
    "            freq+=1\n",
    "            start_month.append(month_count)\n",
    "            month_count=month_count+abc[k+1]\n",
    "            end_month.append(month_count)\n",
    "        else:\n",
    "            month_count=month_count+abc[k+1]\n",
    "    result.append(freq)\n",
    "    result.append(start_month)\n",
    "    result.append(end_month)\n",
    "    return result"
   ]
  },
  {
   "cell_type": "code",
   "execution_count": null,
   "id": "a7565527",
   "metadata": {},
   "outputs": [],
   "source": [
    "perc_anml_val_5_rle=[]\n",
    "for i in perc_anml_val_5:\n",
    "    perc_anml_val_5_rle.append(rle_2(i))"
   ]
  },
  {
   "cell_type": "code",
   "execution_count": null,
   "id": "3b7a29f8",
   "metadata": {},
   "outputs": [],
   "source": [
    "result_check=[]\n",
    "for i in perc_anml_val_5_rle:\n",
    "    result_check.append(monitoring_2(i))"
   ]
  },
  {
   "cell_type": "code",
   "execution_count": null,
   "id": "23bd022e",
   "metadata": {},
   "outputs": [],
   "source": [
    "perc_anml_val_6=[]\n",
    "for i in range(0,len(mask_in)):\n",
    "    pixel_val=[]\n",
    "    for j in perc_anml_val_4:\n",
    "        pixel_val.append(j[i])\n",
    "    perc_anml_val_6.append(pixel_val)"
   ]
  },
  {
   "cell_type": "code",
   "execution_count": null,
   "id": "cda9c6f1",
   "metadata": {},
   "outputs": [],
   "source": [
    "avg_intensity_values=[]\n",
    "max_intensity_values=[]\n",
    "for i in range(0,len(result_check)):\n",
    "    intensity_values=[]\n",
    "    for j in range(0,result_check[i][0]):\n",
    "        a=result_check[i][1][j]\n",
    "        b=result_check[i][2][j]\n",
    "        int_values=statistics.mean(perc_anml_val_6[i][a:b])\n",
    "        intensity_values.append(int_values)\n",
    "    avg_intensity_values.append(statistics.mean(intensity_values))\n",
    "    max_intensity_values.append(numpy.min(intensity_values))"
   ]
  },
  {
   "cell_type": "code",
   "execution_count": null,
   "id": "dc1c4f5a",
   "metadata": {},
   "outputs": [],
   "source": [
    "average_intensity_values=[-9999]*12649\n",
    "maximum_intensity_values=[-9999]*12649\n",
    "j=0\n",
    "for i in mask_in:\n",
    "    average_intensity_values[i]=avg_intensity_values[j]\n",
    "    maximum_intensity_values[i]=max_intensity_values[j]\n",
    "    j=j+1"
   ]
  },
  {
   "cell_type": "code",
   "execution_count": null,
   "id": "ff3b25fb",
   "metadata": {},
   "outputs": [],
   "source": [
    "# Average Intensity Image\n",
    "average_intensity_values=numpy.array(average_intensity_values)\n",
    "average_intensityMatrix=average_intensity_values.reshape(rows,col)\n",
    "raster_average_intensity=driver.Create(\"Average_Intensity.tif\",col,rows,1,gdal.GDT_Float32)\n",
    "raster_average_intensity.SetGeoTransform(img1.GetGeoTransform())\n",
    "raster_average_intensity.SetProjection(img1.GetProjection())\n",
    "raster_average_intensity.GetRasterBand(1).WriteArray(average_intensityMatrix)\n",
    "del raster_average_intensity"
   ]
  },
  {
   "cell_type": "code",
   "execution_count": null,
   "id": "cca1f737",
   "metadata": {},
   "outputs": [],
   "source": [
    "# Maximum Intensity Image\n",
    "maximum_intensity_values=numpy.array(maximum_intensity_values)\n",
    "max_intensityMatrix=maximum_intensity_values.reshape(rows,col)\n",
    "raster_max_intensity=driver.Create(\"Maximum_Intensity.tif\",col,rows,1,gdal.GDT_Float32)\n",
    "raster_max_intensity.SetGeoTransform(img1.GetGeoTransform())\n",
    "raster_max_intensity.SetProjection(img1.GetProjection())\n",
    "raster_max_intensity.GetRasterBand(1).WriteArray(max_intensityMatrix)\n",
    "del raster_max_intensity"
   ]
  }
 ],
 "metadata": {
  "kernelspec": {
   "display_name": "Python 3 (ipykernel)",
   "language": "python",
   "name": "python3"
  },
  "language_info": {
   "codemirror_mode": {
    "name": "ipython",
    "version": 3
   },
   "file_extension": ".py",
   "mimetype": "text/x-python",
   "name": "python",
   "nbconvert_exporter": "python",
   "pygments_lexer": "ipython3",
   "version": "3.9.12"
  }
 },
 "nbformat": 4,
 "nbformat_minor": 5
}
