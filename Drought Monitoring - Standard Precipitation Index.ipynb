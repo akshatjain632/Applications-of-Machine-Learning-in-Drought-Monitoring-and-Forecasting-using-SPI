{
 "cells": [
  {
   "cell_type": "code",
   "execution_count": null,
   "id": "b1056b2c",
   "metadata": {},
   "outputs": [],
   "source": [
    "import rasterio\n",
    "import rasterio.plot\n",
    "import pyproj\n",
    "import matplotlib\n",
    "import matplotlib.pyplot as plt\n",
    "from osgeo import gdal\n",
    "from osgeo import osr\n",
    "import math\n",
    "from rasterio.plot import show\n",
    "import fiona\n",
    "import rasterio\n",
    "import rasterio.mask\n",
    "import numpy\n",
    "import sys\n",
    "numpy.set_printoptions(threshold=sys.maxsize)\n",
    "import os\n",
    "import re\n",
    "import statistics"
   ]
  },
  {
   "cell_type": "code",
   "execution_count": null,
   "id": "b3f06f1e",
   "metadata": {
    "scrolled": true
   },
   "outputs": [],
   "source": [
    "folder=r'Location for SPI rasters'\n",
    "print(os.listdir(folder))"
   ]
  },
  {
   "cell_type": "code",
   "execution_count": null,
   "id": "6554256f",
   "metadata": {
    "scrolled": true
   },
   "outputs": [],
   "source": [
    "#Changing directory to load files from and save output in\n",
    "os.chdir(r'Location for SPI rasters')\n",
    "#Checking if gdal library is loaded properly- sometimes it doesnt load properly\n",
    "!gdalinfo -nomd spi_03_Gamma_X1981_01_water_masked.tif"
   ]
  },
  {
   "cell_type": "code",
   "execution_count": null,
   "id": "9533f60b",
   "metadata": {},
   "outputs": [],
   "source": [
    "#making a list of all raster files\n",
    "spi_names=[]\n",
    "for file_name in os.listdir(folder):\n",
    "    spi_names.append(file_name)"
   ]
  },
  {
   "cell_type": "code",
   "execution_count": null,
   "id": "792f3c8c",
   "metadata": {},
   "outputs": [],
   "source": [
    "#load one image to get various values needed later\n",
    "img1=gdal.Open(r'Location for default image for Mask')\n",
    "col=img1.RasterXSize\n",
    "rows=img1.RasterYSize\n",
    "driver=img1.GetDriver()\n",
    "img1_val=img1.GetRasterBand(1).ReadAsArray().flatten()"
   ]
  },
  {
   "cell_type": "code",
   "execution_count": null,
   "id": "ef1622c7",
   "metadata": {},
   "outputs": [],
   "source": [
    "#mask creation to remove values outside of boundary in loaded tiff files values later\n",
    "mask_in=[]\n",
    "mask_out=[]\n",
    "for i in range(0,len(img1_val)):\n",
    "    if img1_val[i]==0:# replace with default value outside of boundary\n",
    "        mask_out.append(i)\n",
    "    else:\n",
    "        mask_in.append(i)"
   ]
  },
  {
   "cell_type": "code",
   "execution_count": null,
   "id": "9da59085",
   "metadata": {
    "scrolled": false
   },
   "outputs": [],
   "source": [
    "print(len(mask_in),len(mask_out),len(img1_val))"
   ]
  },
  {
   "cell_type": "markdown",
   "id": "31b86d8b",
   "metadata": {},
   "source": [
    "# Functions for Monitoring"
   ]
  },
  {
   "cell_type": "code",
   "execution_count": null,
   "id": "6c498f05",
   "metadata": {},
   "outputs": [],
   "source": [
    "def masking_1(arr):\n",
    "    masked_list=[]\n",
    "    for i in mask_in:\n",
    "        masked_list.append(arr[i])\n",
    "    return masked_list"
   ]
  },
  {
   "cell_type": "code",
   "execution_count": null,
   "id": "ba43c8aa",
   "metadata": {},
   "outputs": [],
   "source": [
    "def classification_1(abc):\n",
    "    reslt=[]\n",
    "    for i in range(0,len(abc)):\n",
    "        if abc[i]<-0.5:#change value based on drought severity\n",
    "            reslt.append(0)\n",
    "        else:\n",
    "            reslt.append(1)\n",
    "    return reslt"
   ]
  },
  {
   "cell_type": "code",
   "execution_count": null,
   "id": "8daf614d",
   "metadata": {},
   "outputs": [],
   "source": [
    "def rle_2(val_list):\n",
    "    rle_output=[]\n",
    "    i=0\n",
    "    while (i <= len(val_list)-1):\n",
    "        count=1\n",
    "        ch=val_list[i]\n",
    "        j=i\n",
    "        while (j < len(val_list)-1):\n",
    "            if (val_list[j] == val_list[j+1]):\n",
    "                count=count+1\n",
    "                j=j+1\n",
    "            else:\n",
    "                break\n",
    "        rle_output.append(ch)\n",
    "        rle_output.append(count)\n",
    "        i=j+1\n",
    "    return rle_output"
   ]
  },
  {
   "cell_type": "code",
   "execution_count": null,
   "id": "7a345fbf",
   "metadata": {},
   "outputs": [],
   "source": [
    "def monitoring(abc):\n",
    "    result=[]\n",
    "    freq=0\n",
    "    month_count=0\n",
    "    start_year=[]\n",
    "    start_month=[]\n",
    "    end_year=[]\n",
    "    end_month=[]\n",
    "    duration=[]\n",
    "    for k in range(0,len(abc),2):\n",
    "        if abc[k]==0 and abc[k+1]>=3:\n",
    "            duration.append(abc[k+1])\n",
    "            freq+=1\n",
    "            sy=month_count//12\n",
    "            sm=month_count%12\n",
    "            sm=sm+1\n",
    "            start_year.append(sy)\n",
    "            start_month.append(sm)\n",
    "            month_count=month_count+abc[k+1]\n",
    "            em=sm+abc[k+1]-2\n",
    "            em=em%12\n",
    "            em=em+1\n",
    "            end_month.append(em)\n",
    "            ey=month_count//12\n",
    "            end_year.append(ey)\n",
    "        else:\n",
    "            month_count=month_count+abc[k+1]\n",
    "    result.append(freq)\n",
    "    if freq==0:\n",
    "        start_month.append(-1)\n",
    "        end_month.append(-1)\n",
    "        duration.append(-1)\n",
    "    result.append(statistics.mode(start_month))\n",
    "    result.append(statistics.mode(end_month))\n",
    "    result.append(statistics.mean(duration))\n",
    "    result.append(numpy.max(duration))\n",
    "    result.append(start_year)\n",
    "    return result"
   ]
  },
  {
   "cell_type": "markdown",
   "id": "955e5c66",
   "metadata": {},
   "source": [
    "# Monitoring"
   ]
  },
  {
   "cell_type": "code",
   "execution_count": null,
   "id": "62d253c3",
   "metadata": {},
   "outputs": [],
   "source": [
    "spi_test_val_2=[]\n",
    "for i in range(2,len(spi_names)):#Change the starting index based on timescale- SPI1=0, SPI3=2, SPI6=5, SPI9=8 \n",
    "    img=gdal.Open(spi_names[i])\n",
    "    val=img.GetRasterBand(1).ReadAsArray().flatten()\n",
    "    val=masking_1(val)\n",
    "    val=classification_1(val)\n",
    "    val=numpy.array(val)\n",
    "    spi_test_val_2.append(val)\n",
    "print(len(spi_test_val_2))"
   ]
  },
  {
   "cell_type": "code",
   "execution_count": null,
   "id": "67221c9e",
   "metadata": {},
   "outputs": [],
   "source": [
    "pixel_val_i_full=[]\n",
    "for i in spi_test_val_2:\n",
    "    pixel_val_i_480=[]\n",
    "    for j in range(0,len(i)):\n",
    "        pixel_val_i_480.append(i[j])\n",
    "    pixel_val_i_full.append(pixel_val_i_480)"
   ]
  },
  {
   "cell_type": "code",
   "execution_count": null,
   "id": "214ae85d",
   "metadata": {},
   "outputs": [],
   "source": [
    "valid_frequency_count=[]\n",
    "valid_mode_onset_month=[]\n",
    "valid_mode_cessation_month=[]\n",
    "valid_mean_duration=[]\n",
    "valid_max_duration=[]\n",
    "valid_start_years=[]\n",
    "for i in range(0,len(mask_in)):\n",
    "    pixel_val_i_calc=[]\n",
    "    for j in pixel_val_i_full:\n",
    "        pixel_val_i_calc.append(j[i])\n",
    "    pixel_val_i_calc_rle=rle_2(pixel_val_i_calc)\n",
    "    print(\"Results for pixel \"+ str(i+1))\n",
    "    result=monitoring(pixel_val_i_calc_rle)\n",
    "    valid_frequency_count.append(result[0])\n",
    "    valid_mode_onset_month.append(result[1])\n",
    "    valid_mode_cessation_month.append(result[2])\n",
    "    valid_mean_duration.append(result[3])\n",
    "    valid_max_duration.append(result[4])\n",
    "    valid_start_years.append(result[5])"
   ]
  },
  {
   "cell_type": "code",
   "execution_count": null,
   "id": "fc68055b",
   "metadata": {},
   "outputs": [],
   "source": [
    "# Monitoring-1 Image Matrix Creation\n",
    "frequency_values=[-9999]*12649\n",
    "mode_onset_month_values=[-9999]*12649\n",
    "mode_cessation_month_values=[-9999]*12649\n",
    "mean_duration_values=[-9999]*12649\n",
    "max_duration_values=[-9999]*12649\n",
    "j=0\n",
    "for i in mask_in:\n",
    "    frequency_values[i]=valid_frequency_count[j]\n",
    "    mode_onset_month_values[i]=valid_mode_onset_month[j]\n",
    "    mode_cessation_month_values[i]=valid_mode_cessation_month[j]\n",
    "    mean_duration_values[i]=valid_mean_duration[j]\n",
    "    max_duration_values[i]=valid_max_duration[j]\n",
    "    j=j+1"
   ]
  },
  {
   "cell_type": "code",
   "execution_count": null,
   "id": "75d79db7",
   "metadata": {},
   "outputs": [],
   "source": [
    "# Frequncy Image\n",
    "frequency_values=numpy.array(frequency_values)\n",
    "frequencyMatrix=frequency_values.reshape(rows,col)\n",
    "raster_frequency=driver.Create(\"Frequency_of_Drought.tif\",col,rows,1,gdal.GDT_Float32)\n",
    "raster_frequency.SetGeoTransform(img1.GetGeoTransform())\n",
    "raster_frequency.SetProjection(img1.GetProjection())\n",
    "raster_frequency.GetRasterBand(1).WriteArray(frequencyMatrix)\n",
    "del raster_frequency"
   ]
  },
  {
   "cell_type": "code",
   "execution_count": null,
   "id": "5afe6f01",
   "metadata": {},
   "outputs": [],
   "source": [
    "# Mode Onset Month Image\n",
    "mode_onset_month_values=numpy.array(mode_onset_month_values)\n",
    "mode_monthMatrix=mode_onset_month_values.reshape(rows,col)\n",
    "raster_mode_month=driver.Create(\"Mode_of_Onset_Month_of_Drought.tif\",col,rows,1,gdal.GDT_Float32)\n",
    "raster_mode_month.SetGeoTransform(img1.GetGeoTransform())\n",
    "raster_mode_month.SetProjection(img1.GetProjection())\n",
    "raster_mode_month.GetRasterBand(1).WriteArray(mode_monthMatrix)\n",
    "del raster_mode_month"
   ]
  },
  {
   "cell_type": "code",
   "execution_count": null,
   "id": "4511c0e5",
   "metadata": {},
   "outputs": [],
   "source": [
    "# Mode Cessation Month Image\n",
    "mode_cessation_month_values=numpy.array(mode_cessation_month_values)\n",
    "mode_month_endMatrix=mode_cessation_month_values.reshape(rows,col)\n",
    "raster_mode_month_end=driver.Create(\"Mode_of_Cessation_Month_of_Drought_End.tif\",col,rows,1,gdal.GDT_Float32)\n",
    "raster_mode_month_end.SetGeoTransform(img1.GetGeoTransform())\n",
    "raster_mode_month_end.SetProjection(img1.GetProjection())\n",
    "raster_mode_month_end.GetRasterBand(1).WriteArray(mode_month_endMatrix)\n",
    "del raster_mode_month_end"
   ]
  },
  {
   "cell_type": "code",
   "execution_count": null,
   "id": "ecc0e6e2",
   "metadata": {},
   "outputs": [],
   "source": [
    "# Mean Duration Image\n",
    "mean_duration_values=numpy.array(mean_duration_values)\n",
    "mean_durationMatrix=mean_duration_values.reshape(rows,col)\n",
    "raster_mean_duration=driver.Create(\"Mean_Duration.tif\",col,rows,1,gdal.GDT_Float32)\n",
    "raster_mean_duration.SetGeoTransform(img1.GetGeoTransform())\n",
    "raster_mean_duration.SetProjection(img1.GetProjection())\n",
    "raster_mean_duration.GetRasterBand(1).WriteArray(mean_durationMatrix)\n",
    "del raster_mean_duration"
   ]
  },
  {
   "cell_type": "code",
   "execution_count": null,
   "id": "8e1f9150",
   "metadata": {},
   "outputs": [],
   "source": [
    "# Max Duration Image\n",
    "max_duration_values=numpy.array(max_duration_values)\n",
    "max_durationMatrix=max_duration_values.reshape(rows,col)\n",
    "raster_max_duration=driver.Create(\"Maximum_Duration.tif\",col,rows,1,gdal.GDT_Float32)\n",
    "raster_max_duration.SetGeoTransform(img1.GetGeoTransform())\n",
    "raster_max_duration.SetProjection(img1.GetProjection())\n",
    "raster_max_duration.GetRasterBand(1).WriteArray(max_durationMatrix)\n",
    "del raster_max_duration"
   ]
  },
  {
   "cell_type": "markdown",
   "id": "b57bfc9c",
   "metadata": {},
   "source": [
    "# For Year Wise Drought Verification"
   ]
  },
  {
   "cell_type": "code",
   "execution_count": null,
   "id": "da55e814",
   "metadata": {},
   "outputs": [],
   "source": [
    "for i in valid_start_years:\n",
    "    for j in range(0,len(i)):\n",
    "        i[j]=i[j]+1981"
   ]
  },
  {
   "cell_type": "code",
   "execution_count": null,
   "id": "a5e769ce",
   "metadata": {},
   "outputs": [],
   "source": [
    "def Remove(duplicate):\n",
    "    final_list = []\n",
    "    for num in duplicate:\n",
    "        if num not in final_list:\n",
    "            final_list.append(num)\n",
    "    return final_list"
   ]
  },
  {
   "cell_type": "code",
   "execution_count": null,
   "id": "3433990e",
   "metadata": {},
   "outputs": [],
   "source": [
    "drought_occurence_total=[]\n",
    "for i in valid_start_years:\n",
    "    drought_occurence_pixel=Remove(i)\n",
    "    drought_occurence_total.append(drought_occurence_pixel)\n",
    "print(drought_occurence_total)"
   ]
  },
  {
   "cell_type": "code",
   "execution_count": null,
   "id": "4b3c53a1",
   "metadata": {},
   "outputs": [],
   "source": [
    "drought_map=[]\n",
    "for i in range(1981,2021):\n",
    "    y=[]\n",
    "    for j in drought_occurence_total:\n",
    "        if i in j:\n",
    "            y.append(1)\n",
    "        else:\n",
    "            y.append(0)\n",
    "    drought_map.append(y)"
   ]
  },
  {
   "cell_type": "markdown",
   "id": "d9a24f17",
   "metadata": {},
   "source": [
    "# Drought Image for Each Year"
   ]
  },
  {
   "cell_type": "code",
   "execution_count": null,
   "id": "61ed388b",
   "metadata": {},
   "outputs": [],
   "source": [
    "l=1981\n",
    "for i in range(0,40):\n",
    "    drought_pixels=[-9999]*12649\n",
    "    k=0\n",
    "    for j in mask_in:\n",
    "        drought_pixels[j]=drought_map[i][k]\n",
    "        k=k+1\n",
    "    print(drought_pixels)\n",
    "# #image Creation for each year\n",
    "    drought_pixels_2=numpy.array(drought_pixels)\n",
    "    droughtMatrix=drought_pixels_2.reshape(rows,col)\n",
    "    raster_drought=driver.Create(\"Drought_in_\"+str(l)+\".tif\",col,rows,1,gdal.GDT_Float32)\n",
    "    l=l+1\n",
    "    raster_drought.SetGeoTransform(img1.GetGeoTransform())\n",
    "    raster_drought.SetProjection(img1.GetProjection())\n",
    "    raster_drought.GetRasterBand(1).WriteArray(droughtMatrix)\n",
    "    del raster_drought"
   ]
  },
  {
   "cell_type": "markdown",
   "id": "77793ba5",
   "metadata": {},
   "source": [
    "# Monitoring Phase 2- Intensity(Average and Maximum)"
   ]
  },
  {
   "cell_type": "code",
   "execution_count": null,
   "id": "a7a4219c",
   "metadata": {},
   "outputs": [],
   "source": [
    "def monitoring_2(abc):\n",
    "    result=[]\n",
    "    freq=0\n",
    "    month_count=0\n",
    "    start_month=[]\n",
    "    end_month=[]\n",
    "    for k in range(0,len(abc),2):\n",
    "        if abc[k]==0 and abc[k+1]>=3:\n",
    "            freq+=1\n",
    "            start_month.append(month_count)\n",
    "            month_count=month_count+abc[k+1]\n",
    "            end_month.append(month_count)\n",
    "        else:\n",
    "            month_count=month_count+abc[k+1]\n",
    "    result.append(freq)\n",
    "    if freq==0:\n",
    "        start_month.append(-1)\n",
    "        end_month.append(-1)\n",
    "    result.append(start_month)\n",
    "    result.append(end_month)\n",
    "    return result"
   ]
  },
  {
   "cell_type": "code",
   "execution_count": null,
   "id": "6debc3b2",
   "metadata": {},
   "outputs": [],
   "source": [
    "#Reloading rasters\n",
    "spi_test_val_3=[]\n",
    "for i in range(2,len(spi_names)):#Change the starting index based on timescale- SPI1=0, SPI3=2, SPI6=5, SPI9=8 \n",
    "    img=gdal.Open(spi_names[i])\n",
    "    val=img.GetRasterBand(1).ReadAsArray().flatten()\n",
    "    val=masking_1(val)\n",
    "    spi_test_val_3.append(val)\n",
    "print(len(spi_test_val_3))"
   ]
  },
  {
   "cell_type": "code",
   "execution_count": null,
   "id": "9acc3bbd",
   "metadata": {},
   "outputs": [],
   "source": [
    "spi_test_val_4=[]\n",
    "for i in range(0,len(mask_in)):\n",
    "    pixel_val=[]\n",
    "    for j in spi_test_val_3:\n",
    "        pixel_val.append(j[i])\n",
    "    spi_test_val_4.append(pixel_val)\n",
    "print(len(spi_test_val_4))"
   ]
  },
  {
   "cell_type": "code",
   "execution_count": null,
   "id": "411e3a1f",
   "metadata": {},
   "outputs": [],
   "source": [
    "spi_test_val_5=[]\n",
    "for i in range(0,len(mask_in)):\n",
    "    tempo_val=[]\n",
    "    for j in spi_test_val_3:\n",
    "        tempo_val.append(j[i])\n",
    "    tempo_val=classification_1(tempo_val)\n",
    "    spi_test_val_5.append(tempo_val)"
   ]
  },
  {
   "cell_type": "code",
   "execution_count": null,
   "id": "05128a91",
   "metadata": {},
   "outputs": [],
   "source": [
    "spi_test_val_5_rle=[]\n",
    "for i in spi_test_val_5:\n",
    "    spi_test_val_5_rle.append(rle_2(i))"
   ]
  },
  {
   "cell_type": "code",
   "execution_count": null,
   "id": "e021f534",
   "metadata": {},
   "outputs": [],
   "source": [
    "result_check=[]\n",
    "for i in spi_test_val_5_rle:\n",
    "    result_check.append(monitoring_2(i))"
   ]
  },
  {
   "cell_type": "code",
   "execution_count": null,
   "id": "2e94b31f",
   "metadata": {},
   "outputs": [],
   "source": [
    "avg_intensity_values=[]\n",
    "max_intensity_values=[]\n",
    "for i in range(0,len(result_check)):\n",
    "    intensity_values=[]\n",
    "    if result_check[i][0]==0:\n",
    "        intensity_values.append(0)\n",
    "    for j in range(0,result_check[i][0]):\n",
    "        a=result_check[i][1][j]\n",
    "        b=result_check[i][2][j]\n",
    "        int_values=statistics.mean(spi_test_val_4[i][a:b])\n",
    "        intensity_values.append(int_values)\n",
    "    avg_intensity_values.append(statistics.mean(intensity_values))\n",
    "    max_intensity_values.append(numpy.min(intensity_values))"
   ]
  },
  {
   "cell_type": "code",
   "execution_count": null,
   "id": "6e77ac74",
   "metadata": {},
   "outputs": [],
   "source": [
    "mean_severity=[]\n",
    "for i in spi_test_val_4:\n",
    "    mean_severity.append(statistics.mean(i))"
   ]
  },
  {
   "cell_type": "code",
   "execution_count": null,
   "id": "0bc85f04",
   "metadata": {},
   "outputs": [],
   "source": [
    "#Image Matrix Creation\n",
    "average_intensity_values=[-9999]*12649\n",
    "maximum_intensity_values=[-9999]*12649\n",
    "mean_severity_values=[-9999]*12649\n",
    "j=0\n",
    "for i in mask_in:\n",
    "    average_intensity_values[i]=avg_intensity_values[j]\n",
    "    maximum_intensity_values[i]=max_intensity_values[j]\n",
    "    mean_severity_values[i]=mean_severity[j]\n",
    "    j=j+1"
   ]
  },
  {
   "cell_type": "code",
   "execution_count": null,
   "id": "30fc5fe9",
   "metadata": {},
   "outputs": [],
   "source": [
    "# Average Intensity Image\n",
    "average_intensity_values=numpy.array(average_intensity_values)\n",
    "average_intensityMatrix=average_intensity_values.reshape(rows,col)\n",
    "raster_average_intensity=driver.Create(\"Average_Intensity.tif\",col,rows,1,gdal.GDT_Float32)\n",
    "raster_average_intensity.SetGeoTransform(img1.GetGeoTransform())\n",
    "raster_average_intensity.SetProjection(img1.GetProjection())\n",
    "raster_average_intensity.GetRasterBand(1).WriteArray(average_intensityMatrix)\n",
    "del raster_average_intensity"
   ]
  },
  {
   "cell_type": "code",
   "execution_count": null,
   "id": "8ddd0241",
   "metadata": {},
   "outputs": [],
   "source": [
    "# Maximum Intensity Image\n",
    "maximum_intensity_values=numpy.array(maximum_intensity_values)\n",
    "max_intensityMatrix=maximum_intensity_values.reshape(rows,col)\n",
    "raster_max_intensity=driver.Create(\"Maximum_Intensity.tif\",col,rows,1,gdal.GDT_Float32)\n",
    "raster_max_intensity.SetGeoTransform(img1.GetGeoTransform())\n",
    "raster_max_intensity.SetProjection(img1.GetProjection())\n",
    "raster_max_intensity.GetRasterBand(1).WriteArray(max_intensityMatrix)\n",
    "del raster_max_intensity"
   ]
  },
  {
   "cell_type": "code",
   "execution_count": null,
   "id": "1d6cf1fc",
   "metadata": {},
   "outputs": [],
   "source": [
    "# Mean Severity Image\n",
    "mean_severity_values=numpy.array(mean_severity_values)\n",
    "mean_severityMatrix=mean_severity_values.reshape(rows,col)\n",
    "raster_mean_severity=driver.Create(\"Mean_Severity.tif\",col,rows,1,gdal.GDT_Float32)\n",
    "raster_mean_severity.SetGeoTransform(img1.GetGeoTransform())\n",
    "raster_mean_severity.SetProjection(img1.GetProjection())\n",
    "raster_mean_severity.GetRasterBand(1).WriteArray(mean_severityMatrix)\n",
    "del raster_mean_severity"
   ]
  },
  {
   "cell_type": "markdown",
   "id": "dcfaa71f",
   "metadata": {},
   "source": [
    "\n",
    "# Top Ten Locations with Highest Value of each Characteristic"
   ]
  },
  {
   "cell_type": "code",
   "execution_count": null,
   "id": "a9119cb6",
   "metadata": {},
   "outputs": [],
   "source": [
    "#Function to find Maximum for Frequnecy and Duration\n",
    "def top_ten_indices_max(lst):\n",
    "    top_ten=[]\n",
    "    while True:\n",
    "        ind = [index for index, item in enumerate(lst) if item == max(lst)]\n",
    "        for i in ind:\n",
    "            top_ten.append(i)\n",
    "            lst[i]=-9999\n",
    "            if len(top_ten)==10:\n",
    "                return top_ten"
   ]
  },
  {
   "cell_type": "code",
   "execution_count": null,
   "id": "6359d0b1",
   "metadata": {},
   "outputs": [],
   "source": [
    "#Function to find Maximum(actually Minimum) for Intensity and Severity\n",
    "def top_ten_indices_min(lst):\n",
    "    top_ten=[]\n",
    "    while True:\n",
    "        ind = [index for index, item in enumerate(lst) if item == min(lst)]\n",
    "        for i in ind:\n",
    "            top_ten.append(i)\n",
    "            lst[i]=9999\n",
    "            if len(top_ten)==10:\n",
    "                return top_ten"
   ]
  },
  {
   "cell_type": "code",
   "execution_count": null,
   "id": "128896d3",
   "metadata": {},
   "outputs": [],
   "source": [
    "# Top Frequency Locations Map\n",
    "f=valid_frequency_count.copy()\n",
    "top_f=top_ten_indices_max(f)\n",
    "q=[]\n",
    "for i in top_f:\n",
    "    q.append(mask_in[i])\n",
    "ttf=[-9999]*len(img1_val)\n",
    "for i in mask_in:\n",
    "    ttf[i]=9999\n",
    "for i in range(0,len(q)):\n",
    "    a=q[i]\n",
    "    b=top_f[i]\n",
    "    ttf[a]=valid_frequency_count[b]\n",
    "ttf=numpy.array(ttf)\n",
    "ttfMatrix=ttf.reshape(rows,col)\n",
    "raster_ttf=driver.Create(\"Top_ten_Frequency.tif\",col,rows,1,gdal.GDT_Float32)\n",
    "raster_ttf.SetGeoTransform(img1.GetGeoTransform())\n",
    "raster_ttf.SetProjection(img1.GetProjection())\n",
    "raster_ttf.GetRasterBand(1).WriteArray(ttfMatrix)\n",
    "del raster_ttf"
   ]
  },
  {
   "cell_type": "code",
   "execution_count": null,
   "id": "da1f40d2",
   "metadata": {},
   "outputs": [],
   "source": [
    "# Top Mean Duration Locations Map\n",
    "d=valid_mean_duration.copy()\n",
    "top_d=top_ten_indices_max(d)\n",
    "q=[]\n",
    "for i in top_d:\n",
    "    q.append(mask_in[i])\n",
    "ttd=[-9999]*len(img1_val)\n",
    "for i in mask_in:\n",
    "    ttd[i]=9999\n",
    "for i in range(0,len(q)):\n",
    "    a=q[i]\n",
    "    b=top_f[i]\n",
    "    ttd[a]=valid_mean_duration[b]\n",
    "ttd=numpy.array(ttd)\n",
    "ttdMatrix=ttd.reshape(rows,col)\n",
    "raster_ttd=driver.Create(\"Top_ten_mean_duration.tif\",col,rows,1,gdal.GDT_Float32)\n",
    "raster_ttd.SetGeoTransform(img1.GetGeoTransform())\n",
    "raster_ttd.SetProjection(img1.GetProjection())\n",
    "raster_ttd.GetRasterBand(1).WriteArray(ttdMatrix)\n",
    "del raster_ttd"
   ]
  },
  {
   "cell_type": "code",
   "execution_count": null,
   "id": "0f6edfad",
   "metadata": {},
   "outputs": [],
   "source": [
    "# Top Maximum Duration Locations Map\n",
    "d=valid_max_duration.copy()\n",
    "top_d=top_ten_indices_max(d)\n",
    "q=[]\n",
    "for i in top_d:\n",
    "    q.append(mask_in[i])\n",
    "ttd=[-9999]*len(img1_val)\n",
    "for i in mask_in:\n",
    "    ttd[i]=9999\n",
    "for i in range(0,len(q)):\n",
    "    a=q[i]\n",
    "    b=top_f[i]\n",
    "    ttd[a]=valid_max_duration[b]\n",
    "ttd=numpy.array(ttd)\n",
    "ttdMatrix=ttd.reshape(rows,col)\n",
    "raster_ttd=driver.Create(\"Top_ten_max_duration.tif\",col,rows,1,gdal.GDT_Float32)\n",
    "raster_ttd.SetGeoTransform(img1.GetGeoTransform())\n",
    "raster_ttd.SetProjection(img1.GetProjection())\n",
    "raster_ttd.GetRasterBand(1).WriteArray(ttdMatrix)\n",
    "del raster_ttd"
   ]
  },
  {
   "cell_type": "code",
   "execution_count": null,
   "id": "3c515e4b",
   "metadata": {},
   "outputs": [],
   "source": [
    "# Top Mean Severity Locations Map\n",
    "d=mean_severity.copy()\n",
    "top_d=top_ten_indices_min(d)\n",
    "q=[]\n",
    "for i in top_d:\n",
    "    q.append(mask_in[i])\n",
    "ttd=[-9999]*len(img1_val)\n",
    "for i in mask_in:\n",
    "    ttd[i]=9999\n",
    "for i in range(0,len(q)):\n",
    "    a=q[i]\n",
    "    b=top_f[i]\n",
    "    ttd[a]=mean_severity[b]\n",
    "ttd=numpy.array(ttd)\n",
    "ttdMatrix=ttd.reshape(rows,col)\n",
    "raster_ttd=driver.Create(\"Top_ten_mean severity.tif\",col,rows,1,gdal.GDT_Float32)\n",
    "raster_ttd.SetGeoTransform(img1.GetGeoTransform())\n",
    "raster_ttd.SetProjection(img1.GetProjection())\n",
    "raster_ttd.GetRasterBand(1).WriteArray(ttdMatrix)\n",
    "del raster_ttd"
   ]
  },
  {
   "cell_type": "code",
   "execution_count": null,
   "id": "279f4928",
   "metadata": {},
   "outputs": [],
   "source": [
    "# Top maximum Intensity Locations Map\n",
    "d=max_intensity_values.copy()\n",
    "top_d=top_ten_indices_min(d)\n",
    "q=[]\n",
    "for i in top_d:\n",
    "    q.append(mask_in[i])\n",
    "ttd=[-9999]*len(img1_val)\n",
    "for i in mask_in:\n",
    "    ttd[i]=9999\n",
    "for i in range(0,len(q)):\n",
    "    a=q[i]\n",
    "    b=top_f[i]\n",
    "    ttd[a]=max_intensity_values[b]\n",
    "ttd=numpy.array(ttd)\n",
    "ttdMatrix=ttd.reshape(rows,col)\n",
    "raster_ttd=driver.Create(\"Top_ten_maximum_intensity.tif\",col,rows,1,gdal.GDT_Float32)\n",
    "raster_ttd.SetGeoTransform(img1.GetGeoTransform())\n",
    "raster_ttd.SetProjection(img1.GetProjection())\n",
    "raster_ttd.GetRasterBand(1).WriteArray(ttdMatrix)\n",
    "del raster_ttd"
   ]
  },
  {
   "cell_type": "code",
   "execution_count": null,
   "id": "a81f4811",
   "metadata": {},
   "outputs": [],
   "source": [
    "# Top Mean Intensity Locations Map\n",
    "d=avg_intensity_values.copy()\n",
    "top_d=top_ten_indices_min(d)\n",
    "q=[]\n",
    "for i in top_d:\n",
    "    q.append(mask_in[i])\n",
    "ttd=[-9999]*len(img1_val)\n",
    "for i in mask_in:\n",
    "    ttd[i]=9999\n",
    "for i in range(0,len(q)):\n",
    "    a=q[i]\n",
    "    b=top_f[i]\n",
    "    ttd[a]=avg_intensity_values[b]\n",
    "ttd=numpy.array(ttd)\n",
    "ttdMatrix=ttd.reshape(rows,col)\n",
    "raster_ttd=driver.Create(\"Top_ten_average_intensity.tif\",col,rows,1,gdal.GDT_Float32)\n",
    "raster_ttd.SetGeoTransform(img1.GetGeoTransform())\n",
    "raster_ttd.SetProjection(img1.GetProjection())\n",
    "raster_ttd.GetRasterBand(1).WriteArray(ttdMatrix)\n",
    "del raster_ttd"
   ]
  }
 ],
 "metadata": {
  "kernelspec": {
   "display_name": "Python 3 (ipykernel)",
   "language": "python",
   "name": "python3"
  },
  "language_info": {
   "codemirror_mode": {
    "name": "ipython",
    "version": 3
   },
   "file_extension": ".py",
   "mimetype": "text/x-python",
   "name": "python",
   "nbconvert_exporter": "python",
   "pygments_lexer": "ipython3",
   "version": "3.9.12"
  }
 },
 "nbformat": 4,
 "nbformat_minor": 5
}
