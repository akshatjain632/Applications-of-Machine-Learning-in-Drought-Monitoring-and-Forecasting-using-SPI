{
 "cells": [
  {
   "cell_type": "code",
   "execution_count": null,
   "id": "06028d88",
   "metadata": {},
   "outputs": [],
   "source": [
    "import rasterio\n",
    "import rasterio.plot\n",
    "import pyproj\n",
    "import matplotlib\n",
    "import matplotlib.pyplot as plt\n",
    "from osgeo import gdal\n",
    "from osgeo import osr\n",
    "import math\n",
    "from rasterio.plot import show\n",
    "import fiona\n",
    "import rasterio\n",
    "import rasterio.mask\n",
    "import numpy\n",
    "import sys\n",
    "numpy.set_printoptions(threshold=sys.maxsize)\n",
    "import os\n",
    "import re\n",
    "import statistics\n",
    "import pandas as pd\n",
    "from scipy import stats"
   ]
  },
  {
   "cell_type": "code",
   "execution_count": null,
   "id": "8ad75dd1",
   "metadata": {},
   "outputs": [],
   "source": [
    "folder=r'D:\\Desktop\\akshat\\Internship_Stuff\\Dataset\\SPI\\Pearson3\\spi_6'\n",
    "print(os.listdir(folder))"
   ]
  },
  {
   "cell_type": "code",
   "execution_count": null,
   "id": "9e35999e",
   "metadata": {
    "scrolled": true
   },
   "outputs": [],
   "source": [
    "#Changing directory to load files from and save output in\n",
    "os.chdir(r'D:\\Desktop\\akshat\\Internship_Stuff\\Dataset\\SPI\\Pearson3\\spi_6\\\\')\n",
    "#Checking if gdal library is loaded properly- sometimes it doesnt load properly\n",
    "!gdalinfo -nomd spi_06_PearsonIII_X1981_01_water_masked.tif"
   ]
  },
  {
   "cell_type": "code",
   "execution_count": null,
   "id": "7ff8aaab",
   "metadata": {},
   "outputs": [],
   "source": [
    "rasternames=[]\n",
    "for file_name in os.listdir(folder):\n",
    "    rasternames.append(file_name)"
   ]
  },
  {
   "cell_type": "code",
   "execution_count": null,
   "id": "607edecf",
   "metadata": {},
   "outputs": [],
   "source": [
    "print(rasternames)"
   ]
  },
  {
   "cell_type": "code",
   "execution_count": null,
   "id": "b4d3efbd",
   "metadata": {},
   "outputs": [],
   "source": [
    "img1=gdal.Open(r'Location for Base raster for attribute extraction')\n",
    "col=img1.RasterXSize\n",
    "rows=img1.RasterYSize\n",
    "driver=img1.GetDriver()\n",
    "img1_val=img1.GetRasterBand(1).ReadAsArray().flatten()"
   ]
  },
  {
   "cell_type": "code",
   "execution_count": null,
   "id": "d6273753",
   "metadata": {},
   "outputs": [],
   "source": [
    "mask_in=[]\n",
    "for i in range(0,len(img1_val)):\n",
    "    if img1_val[i]!=0:\n",
    "        mask_in.append(i)\n",
    "print(len(mask_in))\n",
    "print(mask_in)"
   ]
  },
  {
   "cell_type": "code",
   "execution_count": null,
   "id": "93a52f7d",
   "metadata": {},
   "outputs": [],
   "source": [
    "def masking_1(arr):\n",
    "    masked_list=[]\n",
    "    for i in mask_in:\n",
    "        masked_list.append(arr[i])\n",
    "    return masked_list"
   ]
  },
  {
   "cell_type": "markdown",
   "id": "2ddf6573",
   "metadata": {},
   "source": [
    "# Extra stuff to make csv easily later"
   ]
  },
  {
   "cell_type": "code",
   "execution_count": null,
   "id": "e197ee9e",
   "metadata": {},
   "outputs": [],
   "source": [
    "total=[]\n",
    "for i in range(0,480):\n",
    "    total.append(len(mask_in))\n",
    "print(len(total))"
   ]
  },
  {
   "cell_type": "code",
   "execution_count": null,
   "id": "fe3058b3",
   "metadata": {},
   "outputs": [],
   "source": [
    "index=[]\n",
    "count_year=1981\n",
    "count_month=1\n",
    "for i in range(0,480):\n",
    "    if count_month==13:\n",
    "        count_month=1\n",
    "        count_year+=1\n",
    "    if count_month<10:\n",
    "        month=\"0\"+str(count_month)\n",
    "    else:\n",
    "        month=str(count_month)\n",
    "    date_val=str(count_year)+\"_\"+month\n",
    "    index.append(date_val)\n",
    "    count_month+=1"
   ]
  },
  {
   "cell_type": "code",
   "execution_count": null,
   "id": "044a670b",
   "metadata": {},
   "outputs": [],
   "source": [
    "# Function to get Area Stats\n",
    "def area_stats(abc):\n",
    "    reslt=[]\n",
    "    drought_no_drought=0\n",
    "    mild_drought=0\n",
    "    moderate_drought=0\n",
    "    severe_drought=0\n",
    "    extreme_drought=0\n",
    "    for i in range(0,len(abc)):\n",
    "        if abc[i]<0:\n",
    "            drought_no_drought+=1\n",
    "        if abc[i]<0 and abc[i]>=-1:\n",
    "            mild_drought+=1\n",
    "        if abc[i]<-1 and abc[i]>=-1.5:\n",
    "            moderate_drought+=1\n",
    "        if abc[i]<-1.5 and abc[i]>=-2:\n",
    "            severe_drought+=1\n",
    "        if abc[i]<-2:\n",
    "            extreme_drought+=1\n",
    "    reslt.append(drought_no_drought/6446)\n",
    "    reslt.append(mild_drought/6446)\n",
    "    reslt.append(moderate_drought/6446)\n",
    "    reslt.append(severe_drought/6446)\n",
    "    reslt.append(extreme_drought/6446)\n",
    "    return reslt"
   ]
  },
  {
   "cell_type": "code",
   "execution_count": null,
   "id": "6fb7842d",
   "metadata": {},
   "outputs": [],
   "source": [
    "values=[]\n",
    "for i in rasternames:\n",
    "    img=gdal.Open(i)\n",
    "    val=img.GetRasterBand(1).ReadAsArray().flatten()\n",
    "    val=masking_1(val)\n",
    "    result=area_stats(val)\n",
    "    values.append(result)"
   ]
  },
  {
   "cell_type": "code",
   "execution_count": null,
   "id": "b50f4477",
   "metadata": {
    "scrolled": true
   },
   "outputs": [],
   "source": [
    "values_2=[]\n",
    "for i in range(0,5):\n",
    "    tem=[]\n",
    "    for j in values:\n",
    "        tem.append(j[i])\n",
    "    values_2.append(tem)\n",
    "print(values_2)\n",
    "for i in values_2:\n",
    "    print(len(i))"
   ]
  },
  {
   "cell_type": "code",
   "execution_count": null,
   "id": "368f2bcf",
   "metadata": {},
   "outputs": [],
   "source": [
    "data={\n",
    "    \"total\":total,\n",
    "    \"No of pixels that show drought -> spi<0\":values_2[0],\n",
    "    \"No of pixels that show mild drought -> -1<spi<0\":values_2[1],\n",
    "    \"No of pixels that show moderate drought -> -1.5<spi<-1\":values_2[2],\n",
    "    \"No of pixels that show severe drought -> -2<spi<-1.5\":values_2[3],\n",
    "    \"No of pixels that show extreme drought -> spi<-2\":values_2[4],\n",
    "}"
   ]
  },
  {
   "cell_type": "code",
   "execution_count": null,
   "id": "352014ce",
   "metadata": {},
   "outputs": [],
   "source": [
    "df = pd.DataFrame(data, index)"
   ]
  },
  {
   "cell_type": "code",
   "execution_count": null,
   "id": "314ed221",
   "metadata": {
    "scrolled": true
   },
   "outputs": [],
   "source": [
    "print(df.head)"
   ]
  },
  {
   "cell_type": "code",
   "execution_count": null,
   "id": "2dd97ec8",
   "metadata": {},
   "outputs": [],
   "source": [
    "#Save as CSV\n",
    "df.to_csv(\"D:\\\\Desktop\\\\akshat\\\\Internship_Stuff\\\\Dataset\\\\results\\\\area_stats_spi_9_pearson3.csv\")"
   ]
  },
  {
   "cell_type": "code",
   "execution_count": null,
   "id": "c9bf2a40",
   "metadata": {
    "scrolled": true
   },
   "outputs": [],
   "source": [
    "plt.figure(figsize=(24,7))\n",
    "plt.plot(index[0::6],values_2[4][0::6])\n",
    "plt.plot(index[0::6],values_2[3][0::6])\n",
    "plt.plot(index[0::6],values_2[2][0::6])\n",
    "plt.plot(index[0::6],values_2[1][0::6])\n",
    "plt.legend(['Extreme Drought','Severe Drought','Moderate Drought','Mild Drought'],loc='center left', bbox_to_anchor=(1, 0.5))\n",
    "plt.xticks(rotation=90)\n",
    "plt.show()"
   ]
  },
  {
   "cell_type": "markdown",
   "id": "1babbd92",
   "metadata": {},
   "source": [
    "# Start of Shapiro Test"
   ]
  },
  {
   "cell_type": "code",
   "execution_count": null,
   "id": "3b39a5b7",
   "metadata": {},
   "outputs": [],
   "source": [
    "s_test_val=[]\n",
    "for i in range(8,len(rasternames)):#Change the starting index based on timescale- SPI1=0, SPI3=2, SPI6=5, SPI9=8 \n",
    "    img=gdal.Open(rasternames[i])\n",
    "    val=img.GetRasterBand(1).ReadAsArray().flatten()\n",
    "    val=masking_1(val)\n",
    "    s_test_val.append(val)\n",
    "print(len(s_test_val))"
   ]
  },
  {
   "cell_type": "code",
   "execution_count": null,
   "id": "4df497ff",
   "metadata": {},
   "outputs": [],
   "source": [
    "s_test_val_2=[]\n",
    "for i in range(0,len(mask_in)):\n",
    "    pixel_val=[]\n",
    "    for j in s_test_val:\n",
    "        pixel_val.append(j[i])\n",
    "    s_test_val_2.append(pixel_val)\n",
    "print(len(s_test_val_2))"
   ]
  },
  {
   "cell_type": "code",
   "execution_count": null,
   "id": "a26fd8d0",
   "metadata": {},
   "outputs": [],
   "source": [
    "shapiro_values=[]\n",
    "for i in s_test_val_2:\n",
    "    shapiro_test=stats.shapiro(i)\n",
    "    shapiro_values.append(shapiro_test.pvalue)"
   ]
  },
  {
   "cell_type": "code",
   "execution_count": null,
   "id": "1db8e49a",
   "metadata": {},
   "outputs": [],
   "source": [
    "#Count of pixels with significant value\n",
    "count=0\n",
    "for i in shapiro_values:\n",
    "    if i>0.01:#Change the value based on chosen alpha value\n",
    "        count+=1\n",
    "print(count)"
   ]
  },
  {
   "cell_type": "code",
   "execution_count": null,
   "id": "46d8f94f",
   "metadata": {},
   "outputs": [],
   "source": [
    "def area_show(abc):\n",
    "    retrn=[]\n",
    "    for i in range(0,len(abc)):\n",
    "        if abc[i]>0.01:\n",
    "            retrn.append(1)\n",
    "        else:\n",
    "            retrn.append(0)\n",
    "    return retrn"
   ]
  },
  {
   "cell_type": "markdown",
   "id": "0887e927",
   "metadata": {},
   "source": [
    "# Creating a raster for results of Shapiro Test"
   ]
  },
  {
   "cell_type": "code",
   "execution_count": null,
   "id": "19441843",
   "metadata": {
    "scrolled": true
   },
   "outputs": [],
   "source": [
    "shapiro_values_2=area_show(shapiro_values)\n",
    "print(shapiro_values_2)"
   ]
  },
  {
   "cell_type": "code",
   "execution_count": null,
   "id": "aef77cec",
   "metadata": {},
   "outputs": [],
   "source": [
    "shapiro_image=[-9999]*12649\n",
    "j=0\n",
    "for i in mask_in:\n",
    "    shapiro_image[i]=shapiro_values_2[j]\n",
    "    j=j+1"
   ]
  },
  {
   "cell_type": "code",
   "execution_count": null,
   "id": "75058c32",
   "metadata": {},
   "outputs": [],
   "source": [
    "shapiro_image_values=numpy.array(shapiro_image)\n",
    "shapiro_imageMatrix=shapiro_image_values.reshape(rows,col)\n",
    "raster_shapiro=driver.Create(\"shapiro_1.tif\",col,rows,1,gdal.GDT_Float32)\n",
    "raster_shapiro.SetGeoTransform(img1.GetGeoTransform())\n",
    "raster_shapiro.SetProjection(img1.GetProjection())\n",
    "raster_shapiro.GetRasterBand(1).WriteArray(shapiro_imageMatrix)\n",
    "del raster_shapiro"
   ]
  }
 ],
 "metadata": {
  "kernelspec": {
   "display_name": "Python 3 (ipykernel)",
   "language": "python",
   "name": "python3"
  },
  "language_info": {
   "codemirror_mode": {
    "name": "ipython",
    "version": 3
   },
   "file_extension": ".py",
   "mimetype": "text/x-python",
   "name": "python",
   "nbconvert_exporter": "python",
   "pygments_lexer": "ipython3",
   "version": "3.9.12"
  }
 },
 "nbformat": 4,
 "nbformat_minor": 5
}
